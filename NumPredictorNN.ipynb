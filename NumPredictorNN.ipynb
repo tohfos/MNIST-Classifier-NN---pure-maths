{
 "cells": [
  {
   "cell_type": "markdown",
   "metadata": {},
   "source": [
    "## IMPORTS"
   ]
  },
  {
   "cell_type": "code",
   "execution_count": 136,
   "metadata": {},
   "outputs": [],
   "source": [
    "import numpy as np \n",
    "from numpy import exp\n",
    "\n",
    "import pandas as pd\n",
    "from matplotlib import pyplot as plt\n"
   ]
  },
  {
   "cell_type": "markdown",
   "metadata": {},
   "source": [
    "## Reading csv"
   ]
  },
  {
   "cell_type": "code",
   "execution_count": 137,
   "metadata": {},
   "outputs": [
    {
     "data": {
      "text/html": [
       "<div>\n",
       "<style scoped>\n",
       "    .dataframe tbody tr th:only-of-type {\n",
       "        vertical-align: middle;\n",
       "    }\n",
       "\n",
       "    .dataframe tbody tr th {\n",
       "        vertical-align: top;\n",
       "    }\n",
       "\n",
       "    .dataframe thead th {\n",
       "        text-align: right;\n",
       "    }\n",
       "</style>\n",
       "<table border=\"1\" class=\"dataframe\">\n",
       "  <thead>\n",
       "    <tr style=\"text-align: right;\">\n",
       "      <th></th>\n",
       "      <th>label</th>\n",
       "      <th>pixel0</th>\n",
       "      <th>pixel1</th>\n",
       "      <th>pixel2</th>\n",
       "      <th>pixel3</th>\n",
       "      <th>pixel4</th>\n",
       "      <th>pixel5</th>\n",
       "      <th>pixel6</th>\n",
       "      <th>pixel7</th>\n",
       "      <th>pixel8</th>\n",
       "      <th>...</th>\n",
       "      <th>pixel774</th>\n",
       "      <th>pixel775</th>\n",
       "      <th>pixel776</th>\n",
       "      <th>pixel777</th>\n",
       "      <th>pixel778</th>\n",
       "      <th>pixel779</th>\n",
       "      <th>pixel780</th>\n",
       "      <th>pixel781</th>\n",
       "      <th>pixel782</th>\n",
       "      <th>pixel783</th>\n",
       "    </tr>\n",
       "  </thead>\n",
       "  <tbody>\n",
       "    <tr>\n",
       "      <th>0</th>\n",
       "      <td>1</td>\n",
       "      <td>0</td>\n",
       "      <td>0</td>\n",
       "      <td>0</td>\n",
       "      <td>0</td>\n",
       "      <td>0</td>\n",
       "      <td>0</td>\n",
       "      <td>0</td>\n",
       "      <td>0</td>\n",
       "      <td>0</td>\n",
       "      <td>...</td>\n",
       "      <td>0</td>\n",
       "      <td>0</td>\n",
       "      <td>0</td>\n",
       "      <td>0</td>\n",
       "      <td>0</td>\n",
       "      <td>0</td>\n",
       "      <td>0</td>\n",
       "      <td>0</td>\n",
       "      <td>0</td>\n",
       "      <td>0</td>\n",
       "    </tr>\n",
       "    <tr>\n",
       "      <th>1</th>\n",
       "      <td>0</td>\n",
       "      <td>0</td>\n",
       "      <td>0</td>\n",
       "      <td>0</td>\n",
       "      <td>0</td>\n",
       "      <td>0</td>\n",
       "      <td>0</td>\n",
       "      <td>0</td>\n",
       "      <td>0</td>\n",
       "      <td>0</td>\n",
       "      <td>...</td>\n",
       "      <td>0</td>\n",
       "      <td>0</td>\n",
       "      <td>0</td>\n",
       "      <td>0</td>\n",
       "      <td>0</td>\n",
       "      <td>0</td>\n",
       "      <td>0</td>\n",
       "      <td>0</td>\n",
       "      <td>0</td>\n",
       "      <td>0</td>\n",
       "    </tr>\n",
       "    <tr>\n",
       "      <th>2</th>\n",
       "      <td>1</td>\n",
       "      <td>0</td>\n",
       "      <td>0</td>\n",
       "      <td>0</td>\n",
       "      <td>0</td>\n",
       "      <td>0</td>\n",
       "      <td>0</td>\n",
       "      <td>0</td>\n",
       "      <td>0</td>\n",
       "      <td>0</td>\n",
       "      <td>...</td>\n",
       "      <td>0</td>\n",
       "      <td>0</td>\n",
       "      <td>0</td>\n",
       "      <td>0</td>\n",
       "      <td>0</td>\n",
       "      <td>0</td>\n",
       "      <td>0</td>\n",
       "      <td>0</td>\n",
       "      <td>0</td>\n",
       "      <td>0</td>\n",
       "    </tr>\n",
       "    <tr>\n",
       "      <th>3</th>\n",
       "      <td>4</td>\n",
       "      <td>0</td>\n",
       "      <td>0</td>\n",
       "      <td>0</td>\n",
       "      <td>0</td>\n",
       "      <td>0</td>\n",
       "      <td>0</td>\n",
       "      <td>0</td>\n",
       "      <td>0</td>\n",
       "      <td>0</td>\n",
       "      <td>...</td>\n",
       "      <td>0</td>\n",
       "      <td>0</td>\n",
       "      <td>0</td>\n",
       "      <td>0</td>\n",
       "      <td>0</td>\n",
       "      <td>0</td>\n",
       "      <td>0</td>\n",
       "      <td>0</td>\n",
       "      <td>0</td>\n",
       "      <td>0</td>\n",
       "    </tr>\n",
       "    <tr>\n",
       "      <th>4</th>\n",
       "      <td>0</td>\n",
       "      <td>0</td>\n",
       "      <td>0</td>\n",
       "      <td>0</td>\n",
       "      <td>0</td>\n",
       "      <td>0</td>\n",
       "      <td>0</td>\n",
       "      <td>0</td>\n",
       "      <td>0</td>\n",
       "      <td>0</td>\n",
       "      <td>...</td>\n",
       "      <td>0</td>\n",
       "      <td>0</td>\n",
       "      <td>0</td>\n",
       "      <td>0</td>\n",
       "      <td>0</td>\n",
       "      <td>0</td>\n",
       "      <td>0</td>\n",
       "      <td>0</td>\n",
       "      <td>0</td>\n",
       "      <td>0</td>\n",
       "    </tr>\n",
       "  </tbody>\n",
       "</table>\n",
       "<p>5 rows × 785 columns</p>\n",
       "</div>"
      ],
      "text/plain": [
       "   label  pixel0  pixel1  pixel2  pixel3  pixel4  pixel5  pixel6  pixel7  \\\n",
       "0      1       0       0       0       0       0       0       0       0   \n",
       "1      0       0       0       0       0       0       0       0       0   \n",
       "2      1       0       0       0       0       0       0       0       0   \n",
       "3      4       0       0       0       0       0       0       0       0   \n",
       "4      0       0       0       0       0       0       0       0       0   \n",
       "\n",
       "   pixel8  ...  pixel774  pixel775  pixel776  pixel777  pixel778  pixel779  \\\n",
       "0       0  ...         0         0         0         0         0         0   \n",
       "1       0  ...         0         0         0         0         0         0   \n",
       "2       0  ...         0         0         0         0         0         0   \n",
       "3       0  ...         0         0         0         0         0         0   \n",
       "4       0  ...         0         0         0         0         0         0   \n",
       "\n",
       "   pixel780  pixel781  pixel782  pixel783  \n",
       "0         0         0         0         0  \n",
       "1         0         0         0         0  \n",
       "2         0         0         0         0  \n",
       "3         0         0         0         0  \n",
       "4         0         0         0         0  \n",
       "\n",
       "[5 rows x 785 columns]"
      ]
     },
     "execution_count": 137,
     "metadata": {},
     "output_type": "execute_result"
    }
   ],
   "source": [
    "df = pd.read_csv('digit-recognizer-Data/train.csv')\n",
    "df.head()"
   ]
  },
  {
   "cell_type": "markdown",
   "metadata": {},
   "source": [
    "## Converting df to numpy array so we can work with it."
   ]
  },
  {
   "cell_type": "code",
   "execution_count": 138,
   "metadata": {},
   "outputs": [],
   "source": [
    "data = np.array(df)\n",
    "numOfExamples, numOfFeatures = data.shape # num of features will be num of features +1 due to the label column.\n",
    "np.random.shuffle(data)\n",
    "\n",
    "data_test = data[0:1000].T  # Transpose the data to have features and the label as rows and examples as columns.\n",
    "Y_test = data_test[0]  # The first row is the label.\n",
    "X_test = data_test[1:numOfFeatures]   # The rest of the rows are the features.\n",
    "X_test = X_test / 255\n",
    "\n",
    "data_train = data[1000:numOfExamples].T  # Transpose the data to have features and the label as rows and examples as columns.\n",
    "Y_train = data_train[0]  # Labels\n",
    "X_train = data_train[1:numOfFeatures]   # The rest of the rows are the features.\n",
    "X_train = X_train / 255 # Normalize the data to be between 0 and 1.\n",
    "\n",
    "\n",
    "\n",
    "\n"
   ]
  },
  {
   "cell_type": "markdown",
   "metadata": {},
   "source": [
    "## Checking labels are loaded correctly"
   ]
  },
  {
   "cell_type": "code",
   "execution_count": 139,
   "metadata": {},
   "outputs": [
    {
     "data": {
      "text/plain": [
       "array([4, 9, 1, ..., 7, 8, 1], dtype=int64)"
      ]
     },
     "execution_count": 139,
     "metadata": {},
     "output_type": "execute_result"
    }
   ],
   "source": [
    "Y_train"
   ]
  },
  {
   "cell_type": "markdown",
   "metadata": {},
   "source": [
    "## Function to one hot encode"
   ]
  },
  {
   "cell_type": "code",
   "execution_count": 140,
   "metadata": {},
   "outputs": [],
   "source": [
    "def one_hot(Y):\n",
    "    one_hot_Y = np.zeros((Y.size, Y.max() + 1))\n",
    "    one_hot_Y[np.arange(Y.size), Y] = 1\n",
    "    return one_hot_Y.T"
   ]
  },
  {
   "cell_type": "markdown",
   "metadata": {},
   "source": [
    "## Initializing parameters."
   ]
  },
  {
   "cell_type": "code",
   "execution_count": 141,
   "metadata": {},
   "outputs": [],
   "source": [
    "def init_params():\n",
    "    W1 = np.random.rand(10,784) -0.5 \n",
    "    # 10 is the number of classes(in this case numbers from 0-9) and 784 is the number of features(in this case the pixel values from 0-255).\n",
    "    B1 = np.random.rand(10,1) -0.5\n",
    "    W2 = np.random.rand(10,10) -0.5 # defines weights for the second layer\n",
    "    B2 = np.random.rand(10,1) -0.5\n",
    "    return W1,B1,W2,B2\n",
    "\n",
    "    "
   ]
  },
  {
   "cell_type": "markdown",
   "metadata": {},
   "source": [
    "## Defining evaluation functions"
   ]
  },
  {
   "cell_type": "code",
   "execution_count": 142,
   "metadata": {},
   "outputs": [],
   "source": [
    "def get_accuracy(predications,Y): # Y is the label\n",
    "    return np.sum(predications == Y)/Y.size\n",
    "\n",
    "def get_predications(A2): # A2 is the output of the second layer.\n",
    "    return np.argmax(A2,0)"
   ]
  },
  {
   "cell_type": "markdown",
   "metadata": {},
   "source": [
    "## Defining activation funtion"
   ]
  },
  {
   "cell_type": "code",
   "execution_count": 143,
   "metadata": {},
   "outputs": [],
   "source": [
    "\n",
    "\n",
    "def ReLU(Z):\n",
    "    return np.maximum(Z,0)\n",
    "\n",
    "def softmax(Z):\n",
    "    A = np.exp(Z) / sum(np.exp(Z))\n",
    "    return A\n",
    "\n",
    "def derive_ReLU(Z):\n",
    "    return Z > 0\n",
    "\n",
    "# These activation functions are used to remove linearity , otherwise the Neural Network will be just a  fancy linear regression model."
   ]
  },
  {
   "cell_type": "markdown",
   "metadata": {},
   "source": [
    "## Defining Forward propagation"
   ]
  },
  {
   "cell_type": "code",
   "execution_count": 144,
   "metadata": {},
   "outputs": [],
   "source": [
    "def forward_propagation(W1,B1,W2,B2,X):\n",
    "    Z1 = W1.dot(X) + B1 #Z1 is the unactivated output of the first layer, where it is defined as W1 multiplied by the input layer and the product has bias (b1) added to it.\n",
    "    A1 = ReLU(Z1) #A1 is the activated output of the first layer, where the unactivated output is passed through the ReLU activation function.\n",
    "    Z2 = W2.dot(A1) + B2 #Z2 is the unactivated output of the second layer, where it is defined as W2 multiplied by the activated output of the first layer and the product has bias (b2) added to it.\n",
    "    A2 = softmax(Z2) #A2 is the activated output of the second layer, where the unactivated output is passed through the softmax activation function to get the probabilities of each class.\n",
    "    return Z1,A1,Z2,A2\n"
   ]
  },
  {
   "cell_type": "markdown",
   "metadata": {},
   "source": [
    "## Defining backwards propagation to adjust weights and biases"
   ]
  },
  {
   "cell_type": "code",
   "execution_count": 152,
   "metadata": {},
   "outputs": [],
   "source": [
    "def backward_propagation(Z1,A1,Z2,A2,W1,W2,X,Y):\n",
    "    one_hot_Y = one_hot(Y) # Convert the label to one hot encoding.\n",
    "    dZ2 = A2 - one_hot_Y # Calculate the error of the second layer.\n",
    "    dW2 = 1/numOfExamples * dZ2.dot(A1.T) # Calculate the gradient of the weights of the second layer.\n",
    "    dB2 = 1/numOfExamples * np.sum(dZ2) # Calculate the gradient of the bias of the second layer.\n",
    "    dZ1 = W2.T.dot(dZ2) * derive_ReLU(Z1) \n",
    "    dW1 = 1/numOfExamples * dZ1.dot(X.T) # Calculate the gradient of the weights of the first layer.\n",
    "    dB1 = 1/numOfExamples * np.sum(dZ1) # Calculate the gradient of the bias of the first layer.\n",
    "    return dW1,dB1,dW2,dB2\n",
    "\n",
    "\n",
    "\n",
    "   "
   ]
  },
  {
   "cell_type": "markdown",
   "metadata": {},
   "source": [
    "## Defining update param function"
   ]
  },
  {
   "cell_type": "code",
   "execution_count": 146,
   "metadata": {},
   "outputs": [],
   "source": [
    "def update_params(W1,B1,W2,B2,dW1,dB1,dW2,dB2,alpha):\n",
    "    W1 =W1 - alpha * dW1\n",
    "    B1 =B1 - alpha * dB1\n",
    "    W2 =W2 - alpha * dW2\n",
    "    B2 =B2 - alpha * dB2\n",
    "    return W1,B1,W2,B2\n",
    "\n",
    "\n",
    "  "
   ]
  },
  {
   "cell_type": "markdown",
   "metadata": {},
   "source": [
    "## Gradient decent"
   ]
  },
  {
   "cell_type": "code",
   "execution_count": 153,
   "metadata": {},
   "outputs": [],
   "source": [
    "def gradient_descent(X,Y,iterations,alpha):\n",
    "    W1,B1,W2,B2 = init_params()\n",
    "    for i in range(iterations):\n",
    "        Z1,A1,Z2,A2 = forward_propagation(W1,B1,W2,B2,X)\n",
    "      \n",
    "        dW1,dB1,dW2,dB2 = backward_propagation(Z1,A1,Z2,A2,W1,W2,X,Y)\n",
    "        # print(\"dW1: \",dW1)\n",
    "        # print(\"dB1: \",dB1)\n",
    "        # print(\"dW2: \",dW2)\n",
    "        # print(\"dB2: \",dB2)\n",
    "        W1,B1,W2,B2 = update_params(W1,B1,W2,B2,dW1,dB1,dW2,dB2,alpha)\n",
    "\n",
    "        # print(\"No of Examples: \",noOfExamples)\n",
    "        \n",
    "        if i % 10 == 0:\n",
    "            print(\"Iteration: \",i)\n",
    "            predications = get_predications(A2)\n",
    "            print(\"Accuracy\",get_accuracy(predications,Y))\n",
    "            \n",
    "    return W1,B1,W2,B2"
   ]
  },
  {
   "cell_type": "markdown",
   "metadata": {},
   "source": [
    "## Running gradient descent"
   ]
  },
  {
   "cell_type": "code",
   "execution_count": 154,
   "metadata": {},
   "outputs": [
    {
     "name": "stdout",
     "output_type": "stream",
     "text": [
      "Iteration:  0\n",
      "Accuracy 0.05629268292682927\n",
      "Iteration:  10\n",
      "Accuracy 0.16395121951219513\n",
      "Iteration:  20\n",
      "Accuracy 0.2373170731707317\n",
      "Iteration:  30\n",
      "Accuracy 0.30153658536585365\n",
      "Iteration:  40\n",
      "Accuracy 0.37346341463414634\n",
      "Iteration:  50\n",
      "Accuracy 0.44541463414634147\n",
      "Iteration:  60\n",
      "Accuracy 0.5120487804878049\n",
      "Iteration:  70\n",
      "Accuracy 0.5652195121951219\n",
      "Iteration:  80\n",
      "Accuracy 0.6067560975609756\n",
      "Iteration:  90\n",
      "Accuracy 0.640390243902439\n",
      "Iteration:  100\n",
      "Accuracy 0.6647317073170732\n",
      "Iteration:  110\n",
      "Accuracy 0.6853902439024391\n",
      "Iteration:  120\n",
      "Accuracy 0.7020243902439024\n",
      "Iteration:  130\n",
      "Accuracy 0.7155365853658536\n",
      "Iteration:  140\n",
      "Accuracy 0.7268292682926829\n",
      "Iteration:  150\n",
      "Accuracy 0.7374146341463415\n",
      "Iteration:  160\n",
      "Accuracy 0.7470731707317073\n",
      "Iteration:  170\n",
      "Accuracy 0.7546829268292683\n",
      "Iteration:  180\n",
      "Accuracy 0.7616585365853659\n",
      "Iteration:  190\n",
      "Accuracy 0.7686341463414634\n",
      "Iteration:  200\n",
      "Accuracy 0.7746829268292683\n",
      "Iteration:  210\n",
      "Accuracy 0.780390243902439\n",
      "Iteration:  220\n",
      "Accuracy 0.7857804878048781\n",
      "Iteration:  230\n",
      "Accuracy 0.790609756097561\n",
      "Iteration:  240\n",
      "Accuracy 0.7955609756097561\n",
      "Iteration:  250\n",
      "Accuracy 0.8000487804878049\n",
      "Iteration:  260\n",
      "Accuracy 0.8042439024390244\n",
      "Iteration:  270\n",
      "Accuracy 0.8076829268292683\n",
      "Iteration:  280\n",
      "Accuracy 0.811\n",
      "Iteration:  290\n",
      "Accuracy 0.8148048780487804\n",
      "Iteration:  300\n",
      "Accuracy 0.817780487804878\n",
      "Iteration:  310\n",
      "Accuracy 0.8205853658536585\n",
      "Iteration:  320\n",
      "Accuracy 0.8231219512195121\n",
      "Iteration:  330\n",
      "Accuracy 0.8257317073170731\n",
      "Iteration:  340\n",
      "Accuracy 0.8280731707317073\n",
      "Iteration:  350\n",
      "Accuracy 0.8304634146341463\n",
      "Iteration:  360\n",
      "Accuracy 0.8329268292682926\n",
      "Iteration:  370\n",
      "Accuracy 0.8348292682926829\n",
      "Iteration:  380\n",
      "Accuracy 0.8372682926829268\n",
      "Iteration:  390\n",
      "Accuracy 0.8394390243902439\n",
      "Iteration:  400\n",
      "Accuracy 0.8412926829268292\n",
      "Iteration:  410\n",
      "Accuracy 0.8428048780487805\n",
      "Iteration:  420\n",
      "Accuracy 0.844780487804878\n",
      "Iteration:  430\n",
      "Accuracy 0.8470243902439024\n",
      "Iteration:  440\n",
      "Accuracy 0.8486341463414634\n",
      "Iteration:  450\n",
      "Accuracy 0.85\n",
      "Iteration:  460\n",
      "Accuracy 0.8515365853658536\n",
      "Iteration:  470\n",
      "Accuracy 0.8530975609756097\n",
      "Iteration:  480\n",
      "Accuracy 0.8540487804878049\n",
      "Iteration:  490\n",
      "Accuracy 0.8553170731707317\n"
     ]
    }
   ],
   "source": [
    "W1,B1,W2,B2 = gradient_descent(X_train,Y_train,500,0.1)\n"
   ]
  },
  {
   "cell_type": "markdown",
   "metadata": {},
   "source": [
    "## Results "
   ]
  },
  {
   "cell_type": "code",
   "execution_count": 167,
   "metadata": {},
   "outputs": [],
   "source": [
    "def make_predictions(X,W1,B1,W2,B2):\n",
    "    _,_,_,A2 = forward_propagation(W1,B1,W2,B2,X)\n",
    "    predications = get_predications(A2)\n",
    "    return predications\n",
    "\n",
    "def test_prediction(index,W1,B1,W2,B2):\n",
    "    current_image = X_test[:,index,None]\n",
    "    predications = make_predictions(X_train[:,index,None],W1,B1,W2,B2)\n",
    "    print(\"Prediction: \",predications)\n",
    "    print(\"Label: \",Y_train[index])\n",
    "    plt.imshow(X_train[:,index].reshape(28,28),cmap='gray')\n",
    "    plt.show()"
   ]
  },
  {
   "cell_type": "code",
   "execution_count": 168,
   "metadata": {},
   "outputs": [
    {
     "name": "stdout",
     "output_type": "stream",
     "text": [
      "Prediction:  [4]\n",
      "Label:  4\n"
     ]
    },
    {
     "data": {
      "image/png": "[encoded data removed]",
      "text/plain": [
       "<Figure size 640x480 with 1 Axes>"
      ]
     },
     "metadata": {},
     "output_type": "display_data"
    }
   ],
   "source": [
    "test_prediction(0,W1,B1,W2,B2)"
   ]
  },
  {
   "cell_type": "code",
   "execution_count": 169,
   "metadata": {},
   "outputs": [
    {
     "name": "stdout",
     "output_type": "stream",
     "text": [
      "Prediction:  [5]\n",
      "Label:  5\n"
     ]
    },
    {
     "data": {
      "image/png": "[encoded data removed]",
      "text/plain": [
       "<Figure size 640x480 with 1 Axes>"
      ]
     },
     "metadata": {},
     "output_type": "display_data"
    }
   ],
   "source": [
    "test_prediction(9,W1,B1,W2,B2)"
   ]
  },
  {
   "cell_type": "code",
   "execution_count": 170,
   "metadata": {},
   "outputs": [
    {
     "name": "stdout",
     "output_type": "stream",
     "text": [
      "Prediction:  [8]\n",
      "Label:  8\n"
     ]
    },
    {
     "data": {
      "image/png": "[encoded data removed]",
      "text/plain": [
       "<Figure size 640x480 with 1 Axes>"
      ]
     },
     "metadata": {},
     "output_type": "display_data"
    }
   ],
   "source": [
    "test_prediction(14,W1,B1,W2,B2)"
   ]
  },
  {
   "cell_type": "markdown",
   "metadata": {},
   "source": [
    "## Evaluation "
   ]
  },
  {
   "cell_type": "code",
   "execution_count": 173,
   "metadata": {},
   "outputs": [
    {
     "name": "stdout",
     "output_type": "stream",
     "text": [
      "Accuracy 85.39999999999999 %\n"
     ]
    }
   ],
   "source": [
    "dev_predictions = make_predictions(X_test, W1, B1, W2, B2)\n",
    "print(\"Accuracy\",get_accuracy(dev_predictions, Y_test)*100,\"%\")"
   ]
  }
 ],
 "metadata": {
  "kernelspec": {
   "display_name": "Python 3",
   "language": "python",
   "name": "python3"
  },
  "language_info": {
   "codemirror_mode": {
    "name": "ipython",
    "version": 3
   },
   "file_extension": ".py",
   "mimetype": "text/x-python",
   "name": "python",
   "nbconvert_exporter": "python",
   "pygments_lexer": "ipython3",
   "version": "3.7.9"
  }
 },
 "nbformat": 4,
 "nbformat_minor": 2
}
